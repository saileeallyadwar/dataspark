{
 "cells": [
  {
   "cell_type": "markdown",
   "id": "fc46a020-07a2-4fd7-b987-5ac709126627",
   "metadata": {},
   "source": [
    "### 1. Load Data And Libraries"
   ]
  },
  {
   "cell_type": "code",
   "execution_count": 1,
   "id": "64e649be-2f18-450f-9e99-99302af5b110",
   "metadata": {},
   "outputs": [],
   "source": [
    "import pandas as pd\n",
    "import numpy as np\n",
    "import matplotlib.pyplot as plt"
   ]
  },
  {
   "cell_type": "code",
   "execution_count": 2,
   "id": "3af7861a-b364-401e-82b0-50331e636a06",
   "metadata": {},
   "outputs": [],
   "source": [
    "customer = pd.read_csv('Customers.csv',encoding='latin1') #encoding='latin1' is used when the data set has special characters"
   ]
  },
  {
   "cell_type": "code",
   "execution_count": 3,
   "id": "695d4d49-1fa4-4ce6-ab98-25652d2e5658",
   "metadata": {},
   "outputs": [
    {
     "data": {
      "text/plain": [
       "CustomerKey     int64\n",
       "Gender         object\n",
       "Name           object\n",
       "City           object\n",
       "State Code     object\n",
       "State          object\n",
       "Zip Code       object\n",
       "Country        object\n",
       "Continent      object\n",
       "Birthday       object\n",
       "dtype: object"
      ]
     },
     "execution_count": 3,
     "metadata": {},
     "output_type": "execute_result"
    }
   ],
   "source": [
    "customer.dtypes"
   ]
  },
  {
   "cell_type": "code",
   "execution_count": 4,
   "id": "27f79be2-cb7b-4baf-8049-f093b2abc74e",
   "metadata": {},
   "outputs": [
    {
     "data": {
      "text/plain": [
       "(15266, 10)"
      ]
     },
     "execution_count": 4,
     "metadata": {},
     "output_type": "execute_result"
    }
   ],
   "source": [
    "customer.shape"
   ]
  },
  {
   "cell_type": "code",
   "execution_count": 5,
   "id": "b6d8e349-4e10-4569-b69c-08b972978d6d",
   "metadata": {},
   "outputs": [
    {
     "data": {
      "text/html": [
       "<div>\n",
       "<style scoped>\n",
       "    .dataframe tbody tr th:only-of-type {\n",
       "        vertical-align: middle;\n",
       "    }\n",
       "\n",
       "    .dataframe tbody tr th {\n",
       "        vertical-align: top;\n",
       "    }\n",
       "\n",
       "    .dataframe thead th {\n",
       "        text-align: right;\n",
       "    }\n",
       "</style>\n",
       "<table border=\"1\" class=\"dataframe\">\n",
       "  <thead>\n",
       "    <tr style=\"text-align: right;\">\n",
       "      <th></th>\n",
       "      <th>CustomerKey</th>\n",
       "      <th>Gender</th>\n",
       "      <th>Name</th>\n",
       "      <th>City</th>\n",
       "      <th>State Code</th>\n",
       "      <th>State</th>\n",
       "      <th>Zip Code</th>\n",
       "      <th>Country</th>\n",
       "      <th>Continent</th>\n",
       "      <th>Birthday</th>\n",
       "    </tr>\n",
       "  </thead>\n",
       "  <tbody>\n",
       "    <tr>\n",
       "      <th>0</th>\n",
       "      <td>301</td>\n",
       "      <td>Female</td>\n",
       "      <td>Lilly Harding</td>\n",
       "      <td>WANDEARAH EAST</td>\n",
       "      <td>SA</td>\n",
       "      <td>South Australia</td>\n",
       "      <td>5523</td>\n",
       "      <td>Australia</td>\n",
       "      <td>Australia</td>\n",
       "      <td>7/3/1939</td>\n",
       "    </tr>\n",
       "    <tr>\n",
       "      <th>1</th>\n",
       "      <td>325</td>\n",
       "      <td>Female</td>\n",
       "      <td>Madison Hull</td>\n",
       "      <td>MOUNT BUDD</td>\n",
       "      <td>WA</td>\n",
       "      <td>Western Australia</td>\n",
       "      <td>6522</td>\n",
       "      <td>Australia</td>\n",
       "      <td>Australia</td>\n",
       "      <td>9/27/1979</td>\n",
       "    </tr>\n",
       "    <tr>\n",
       "      <th>2</th>\n",
       "      <td>554</td>\n",
       "      <td>Female</td>\n",
       "      <td>Claire Ferres</td>\n",
       "      <td>WINJALLOK</td>\n",
       "      <td>VIC</td>\n",
       "      <td>Victoria</td>\n",
       "      <td>3380</td>\n",
       "      <td>Australia</td>\n",
       "      <td>Australia</td>\n",
       "      <td>5/26/1947</td>\n",
       "    </tr>\n",
       "    <tr>\n",
       "      <th>3</th>\n",
       "      <td>786</td>\n",
       "      <td>Male</td>\n",
       "      <td>Jai Poltpalingada</td>\n",
       "      <td>MIDDLE RIVER</td>\n",
       "      <td>SA</td>\n",
       "      <td>South Australia</td>\n",
       "      <td>5223</td>\n",
       "      <td>Australia</td>\n",
       "      <td>Australia</td>\n",
       "      <td>9/17/1957</td>\n",
       "    </tr>\n",
       "    <tr>\n",
       "      <th>4</th>\n",
       "      <td>1042</td>\n",
       "      <td>Male</td>\n",
       "      <td>Aidan Pankhurst</td>\n",
       "      <td>TAWONGA SOUTH</td>\n",
       "      <td>VIC</td>\n",
       "      <td>Victoria</td>\n",
       "      <td>3698</td>\n",
       "      <td>Australia</td>\n",
       "      <td>Australia</td>\n",
       "      <td>11/19/1965</td>\n",
       "    </tr>\n",
       "  </tbody>\n",
       "</table>\n",
       "</div>"
      ],
      "text/plain": [
       "   CustomerKey  Gender               Name            City State Code  \\\n",
       "0          301  Female      Lilly Harding  WANDEARAH EAST         SA   \n",
       "1          325  Female       Madison Hull      MOUNT BUDD         WA   \n",
       "2          554  Female      Claire Ferres       WINJALLOK        VIC   \n",
       "3          786    Male  Jai Poltpalingada    MIDDLE RIVER         SA   \n",
       "4         1042    Male    Aidan Pankhurst   TAWONGA SOUTH        VIC   \n",
       "\n",
       "               State Zip Code    Country  Continent    Birthday  \n",
       "0    South Australia     5523  Australia  Australia    7/3/1939  \n",
       "1  Western Australia     6522  Australia  Australia   9/27/1979  \n",
       "2           Victoria     3380  Australia  Australia   5/26/1947  \n",
       "3    South Australia     5223  Australia  Australia   9/17/1957  \n",
       "4           Victoria     3698  Australia  Australia  11/19/1965  "
      ]
     },
     "execution_count": 5,
     "metadata": {},
     "output_type": "execute_result"
    }
   ],
   "source": [
    "customer.head()"
   ]
  },
  {
   "cell_type": "code",
   "execution_count": 6,
   "id": "5ef1e987-796c-417b-93ef-7c9e30f88bd6",
   "metadata": {},
   "outputs": [
    {
     "data": {
      "text/html": [
       "<div>\n",
       "<style scoped>\n",
       "    .dataframe tbody tr th:only-of-type {\n",
       "        vertical-align: middle;\n",
       "    }\n",
       "\n",
       "    .dataframe tbody tr th {\n",
       "        vertical-align: top;\n",
       "    }\n",
       "\n",
       "    .dataframe thead th {\n",
       "        text-align: right;\n",
       "    }\n",
       "</style>\n",
       "<table border=\"1\" class=\"dataframe\">\n",
       "  <thead>\n",
       "    <tr style=\"text-align: right;\">\n",
       "      <th></th>\n",
       "      <th>CustomerKey</th>\n",
       "    </tr>\n",
       "  </thead>\n",
       "  <tbody>\n",
       "    <tr>\n",
       "      <th>count</th>\n",
       "      <td>1.526600e+04</td>\n",
       "    </tr>\n",
       "    <tr>\n",
       "      <th>mean</th>\n",
       "      <td>1.060508e+06</td>\n",
       "    </tr>\n",
       "    <tr>\n",
       "      <th>std</th>\n",
       "      <td>6.127097e+05</td>\n",
       "    </tr>\n",
       "    <tr>\n",
       "      <th>min</th>\n",
       "      <td>3.010000e+02</td>\n",
       "    </tr>\n",
       "    <tr>\n",
       "      <th>25%</th>\n",
       "      <td>5.140335e+05</td>\n",
       "    </tr>\n",
       "    <tr>\n",
       "      <th>50%</th>\n",
       "      <td>1.079244e+06</td>\n",
       "    </tr>\n",
       "    <tr>\n",
       "      <th>75%</th>\n",
       "      <td>1.593980e+06</td>\n",
       "    </tr>\n",
       "    <tr>\n",
       "      <th>max</th>\n",
       "      <td>2.099937e+06</td>\n",
       "    </tr>\n",
       "  </tbody>\n",
       "</table>\n",
       "</div>"
      ],
      "text/plain": [
       "        CustomerKey\n",
       "count  1.526600e+04\n",
       "mean   1.060508e+06\n",
       "std    6.127097e+05\n",
       "min    3.010000e+02\n",
       "25%    5.140335e+05\n",
       "50%    1.079244e+06\n",
       "75%    1.593980e+06\n",
       "max    2.099937e+06"
      ]
     },
     "execution_count": 6,
     "metadata": {},
     "output_type": "execute_result"
    }
   ],
   "source": [
    "customer.describe() # Summary statistics for numberical columns"
   ]
  },
  {
   "cell_type": "code",
   "execution_count": 7,
   "id": "3eb5183e-7cff-4859-b2f4-bf94ed5396e5",
   "metadata": {},
   "outputs": [
    {
     "data": {
      "text/html": [
       "<div>\n",
       "<style scoped>\n",
       "    .dataframe tbody tr th:only-of-type {\n",
       "        vertical-align: middle;\n",
       "    }\n",
       "\n",
       "    .dataframe tbody tr th {\n",
       "        vertical-align: top;\n",
       "    }\n",
       "\n",
       "    .dataframe thead th {\n",
       "        text-align: right;\n",
       "    }\n",
       "</style>\n",
       "<table border=\"1\" class=\"dataframe\">\n",
       "  <thead>\n",
       "    <tr style=\"text-align: right;\">\n",
       "      <th></th>\n",
       "      <th>Gender</th>\n",
       "      <th>Name</th>\n",
       "      <th>City</th>\n",
       "      <th>State Code</th>\n",
       "      <th>State</th>\n",
       "      <th>Zip Code</th>\n",
       "      <th>Country</th>\n",
       "      <th>Continent</th>\n",
       "      <th>Birthday</th>\n",
       "    </tr>\n",
       "  </thead>\n",
       "  <tbody>\n",
       "    <tr>\n",
       "      <th>count</th>\n",
       "      <td>15266</td>\n",
       "      <td>15266</td>\n",
       "      <td>15266</td>\n",
       "      <td>15256</td>\n",
       "      <td>15266</td>\n",
       "      <td>15266</td>\n",
       "      <td>15266</td>\n",
       "      <td>15266</td>\n",
       "      <td>15266</td>\n",
       "    </tr>\n",
       "    <tr>\n",
       "      <th>unique</th>\n",
       "      <td>2</td>\n",
       "      <td>15118</td>\n",
       "      <td>8258</td>\n",
       "      <td>467</td>\n",
       "      <td>512</td>\n",
       "      <td>9505</td>\n",
       "      <td>8</td>\n",
       "      <td>3</td>\n",
       "      <td>11270</td>\n",
       "    </tr>\n",
       "    <tr>\n",
       "      <th>top</th>\n",
       "      <td>Male</td>\n",
       "      <td>John Smith</td>\n",
       "      <td>Toronto</td>\n",
       "      <td>CA</td>\n",
       "      <td>California</td>\n",
       "      <td>90017</td>\n",
       "      <td>United States</td>\n",
       "      <td>North America</td>\n",
       "      <td>5/29/1965</td>\n",
       "    </tr>\n",
       "    <tr>\n",
       "      <th>freq</th>\n",
       "      <td>7748</td>\n",
       "      <td>4</td>\n",
       "      <td>204</td>\n",
       "      <td>740</td>\n",
       "      <td>715</td>\n",
       "      <td>70</td>\n",
       "      <td>6828</td>\n",
       "      <td>8381</td>\n",
       "      <td>5</td>\n",
       "    </tr>\n",
       "  </tbody>\n",
       "</table>\n",
       "</div>"
      ],
      "text/plain": [
       "       Gender        Name     City State Code       State Zip Code  \\\n",
       "count   15266       15266    15266      15256       15266    15266   \n",
       "unique      2       15118     8258        467         512     9505   \n",
       "top      Male  John Smith  Toronto         CA  California    90017   \n",
       "freq     7748           4      204        740         715       70   \n",
       "\n",
       "              Country      Continent   Birthday  \n",
       "count           15266          15266      15266  \n",
       "unique              8              3      11270  \n",
       "top     United States  North America  5/29/1965  \n",
       "freq             6828           8381          5  "
      ]
     },
     "execution_count": 7,
     "metadata": {},
     "output_type": "execute_result"
    }
   ],
   "source": [
    "customer.describe(include ='object') # summary statistics for categorical columns"
   ]
  },
  {
   "cell_type": "code",
   "execution_count": 8,
   "id": "7858c6f3-cecd-480d-8b79-6506c708a30f",
   "metadata": {},
   "outputs": [],
   "source": [
    "data = pd.read_csv('Data_Dictionary.csv',encoding='latin1')"
   ]
  },
  {
   "cell_type": "code",
   "execution_count": 9,
   "id": "2886477d-ad37-4585-bfbb-064366bfa2ae",
   "metadata": {},
   "outputs": [
    {
     "data": {
      "text/plain": [
       "Table          object\n",
       "Field          object\n",
       "Description    object\n",
       "dtype: object"
      ]
     },
     "execution_count": 9,
     "metadata": {},
     "output_type": "execute_result"
    }
   ],
   "source": [
    "data.dtypes"
   ]
  },
  {
   "cell_type": "code",
   "execution_count": 10,
   "id": "19500bdc-b1da-48e6-b536-ea263e14c00f",
   "metadata": {},
   "outputs": [
    {
     "data": {
      "text/plain": [
       "(37, 3)"
      ]
     },
     "execution_count": 10,
     "metadata": {},
     "output_type": "execute_result"
    }
   ],
   "source": [
    "data.shape"
   ]
  },
  {
   "cell_type": "code",
   "execution_count": 11,
   "id": "975579eb-cdd6-4405-b8d4-098fff0e03ae",
   "metadata": {},
   "outputs": [
    {
     "data": {
      "text/html": [
       "<div>\n",
       "<style scoped>\n",
       "    .dataframe tbody tr th:only-of-type {\n",
       "        vertical-align: middle;\n",
       "    }\n",
       "\n",
       "    .dataframe tbody tr th {\n",
       "        vertical-align: top;\n",
       "    }\n",
       "\n",
       "    .dataframe thead th {\n",
       "        text-align: right;\n",
       "    }\n",
       "</style>\n",
       "<table border=\"1\" class=\"dataframe\">\n",
       "  <thead>\n",
       "    <tr style=\"text-align: right;\">\n",
       "      <th></th>\n",
       "      <th>Table</th>\n",
       "      <th>Field</th>\n",
       "      <th>Description</th>\n",
       "    </tr>\n",
       "  </thead>\n",
       "  <tbody>\n",
       "    <tr>\n",
       "      <th>0</th>\n",
       "      <td>Sales</td>\n",
       "      <td>Order Number</td>\n",
       "      <td>Unique ID for each order</td>\n",
       "    </tr>\n",
       "    <tr>\n",
       "      <th>1</th>\n",
       "      <td>Sales</td>\n",
       "      <td>Line Item</td>\n",
       "      <td>Identifies individual products purchased as pa...</td>\n",
       "    </tr>\n",
       "    <tr>\n",
       "      <th>2</th>\n",
       "      <td>Sales</td>\n",
       "      <td>Order Date</td>\n",
       "      <td>Date the order was placed</td>\n",
       "    </tr>\n",
       "    <tr>\n",
       "      <th>3</th>\n",
       "      <td>Sales</td>\n",
       "      <td>Delivery Date</td>\n",
       "      <td>Date the order was delivered</td>\n",
       "    </tr>\n",
       "    <tr>\n",
       "      <th>4</th>\n",
       "      <td>Sales</td>\n",
       "      <td>CustomerKey</td>\n",
       "      <td>Unique key identifying which customer placed t...</td>\n",
       "    </tr>\n",
       "  </tbody>\n",
       "</table>\n",
       "</div>"
      ],
      "text/plain": [
       "   Table          Field                                        Description\n",
       "0  Sales   Order Number                           Unique ID for each order\n",
       "1  Sales      Line Item  Identifies individual products purchased as pa...\n",
       "2  Sales     Order Date                          Date the order was placed\n",
       "3  Sales  Delivery Date                       Date the order was delivered\n",
       "4  Sales    CustomerKey  Unique key identifying which customer placed t..."
      ]
     },
     "execution_count": 11,
     "metadata": {},
     "output_type": "execute_result"
    }
   ],
   "source": [
    "data.head()"
   ]
  },
  {
   "cell_type": "code",
   "execution_count": 12,
   "id": "e3f1ebb0-ca5b-480e-b44f-6722c7175f01",
   "metadata": {},
   "outputs": [
    {
     "data": {
      "text/html": [
       "<div>\n",
       "<style scoped>\n",
       "    .dataframe tbody tr th:only-of-type {\n",
       "        vertical-align: middle;\n",
       "    }\n",
       "\n",
       "    .dataframe tbody tr th {\n",
       "        vertical-align: top;\n",
       "    }\n",
       "\n",
       "    .dataframe thead th {\n",
       "        text-align: right;\n",
       "    }\n",
       "</style>\n",
       "<table border=\"1\" class=\"dataframe\">\n",
       "  <thead>\n",
       "    <tr style=\"text-align: right;\">\n",
       "      <th></th>\n",
       "      <th>Table</th>\n",
       "      <th>Field</th>\n",
       "      <th>Description</th>\n",
       "    </tr>\n",
       "  </thead>\n",
       "  <tbody>\n",
       "    <tr>\n",
       "      <th>count</th>\n",
       "      <td>37</td>\n",
       "      <td>37</td>\n",
       "      <td>37</td>\n",
       "    </tr>\n",
       "    <tr>\n",
       "      <th>unique</th>\n",
       "      <td>5</td>\n",
       "      <td>32</td>\n",
       "      <td>37</td>\n",
       "    </tr>\n",
       "    <tr>\n",
       "      <th>top</th>\n",
       "      <td>Customers</td>\n",
       "      <td>StoreKey</td>\n",
       "      <td>Unique ID for each order</td>\n",
       "    </tr>\n",
       "    <tr>\n",
       "      <th>freq</th>\n",
       "      <td>10</td>\n",
       "      <td>2</td>\n",
       "      <td>1</td>\n",
       "    </tr>\n",
       "  </tbody>\n",
       "</table>\n",
       "</div>"
      ],
      "text/plain": [
       "            Table     Field               Description\n",
       "count          37        37                        37\n",
       "unique          5        32                        37\n",
       "top     Customers  StoreKey  Unique ID for each order\n",
       "freq           10         2                         1"
      ]
     },
     "execution_count": 12,
     "metadata": {},
     "output_type": "execute_result"
    }
   ],
   "source": [
    "data.describe()"
   ]
  },
  {
   "cell_type": "code",
   "execution_count": 13,
   "id": "abf63801-c3de-4e11-8e78-94f321811973",
   "metadata": {},
   "outputs": [
    {
     "data": {
      "text/html": [
       "<div>\n",
       "<style scoped>\n",
       "    .dataframe tbody tr th:only-of-type {\n",
       "        vertical-align: middle;\n",
       "    }\n",
       "\n",
       "    .dataframe tbody tr th {\n",
       "        vertical-align: top;\n",
       "    }\n",
       "\n",
       "    .dataframe thead th {\n",
       "        text-align: right;\n",
       "    }\n",
       "</style>\n",
       "<table border=\"1\" class=\"dataframe\">\n",
       "  <thead>\n",
       "    <tr style=\"text-align: right;\">\n",
       "      <th></th>\n",
       "      <th>Table</th>\n",
       "      <th>Field</th>\n",
       "      <th>Description</th>\n",
       "    </tr>\n",
       "  </thead>\n",
       "  <tbody>\n",
       "    <tr>\n",
       "      <th>count</th>\n",
       "      <td>37</td>\n",
       "      <td>37</td>\n",
       "      <td>37</td>\n",
       "    </tr>\n",
       "    <tr>\n",
       "      <th>unique</th>\n",
       "      <td>5</td>\n",
       "      <td>32</td>\n",
       "      <td>37</td>\n",
       "    </tr>\n",
       "    <tr>\n",
       "      <th>top</th>\n",
       "      <td>Customers</td>\n",
       "      <td>StoreKey</td>\n",
       "      <td>Unique ID for each order</td>\n",
       "    </tr>\n",
       "    <tr>\n",
       "      <th>freq</th>\n",
       "      <td>10</td>\n",
       "      <td>2</td>\n",
       "      <td>1</td>\n",
       "    </tr>\n",
       "  </tbody>\n",
       "</table>\n",
       "</div>"
      ],
      "text/plain": [
       "            Table     Field               Description\n",
       "count          37        37                        37\n",
       "unique          5        32                        37\n",
       "top     Customers  StoreKey  Unique ID for each order\n",
       "freq           10         2                         1"
      ]
     },
     "execution_count": 13,
     "metadata": {},
     "output_type": "execute_result"
    }
   ],
   "source": [
    "data.describe(include = 'object')"
   ]
  },
  {
   "cell_type": "code",
   "execution_count": 14,
   "id": "36943b36-5898-4b6d-b629-5643722624e0",
   "metadata": {},
   "outputs": [],
   "source": [
    "exr = pd.read_csv('Exchange_Rates.csv')"
   ]
  },
  {
   "cell_type": "code",
   "execution_count": 15,
   "id": "06b6dd52-56dd-4aad-bdae-7061a1618223",
   "metadata": {},
   "outputs": [
    {
     "data": {
      "text/html": [
       "<div>\n",
       "<style scoped>\n",
       "    .dataframe tbody tr th:only-of-type {\n",
       "        vertical-align: middle;\n",
       "    }\n",
       "\n",
       "    .dataframe tbody tr th {\n",
       "        vertical-align: top;\n",
       "    }\n",
       "\n",
       "    .dataframe thead th {\n",
       "        text-align: right;\n",
       "    }\n",
       "</style>\n",
       "<table border=\"1\" class=\"dataframe\">\n",
       "  <thead>\n",
       "    <tr style=\"text-align: right;\">\n",
       "      <th></th>\n",
       "      <th>Date</th>\n",
       "      <th>Currency</th>\n",
       "      <th>Exchange</th>\n",
       "    </tr>\n",
       "  </thead>\n",
       "  <tbody>\n",
       "    <tr>\n",
       "      <th>0</th>\n",
       "      <td>1/1/2015</td>\n",
       "      <td>USD</td>\n",
       "      <td>1.0000</td>\n",
       "    </tr>\n",
       "    <tr>\n",
       "      <th>1</th>\n",
       "      <td>1/1/2015</td>\n",
       "      <td>CAD</td>\n",
       "      <td>1.1583</td>\n",
       "    </tr>\n",
       "    <tr>\n",
       "      <th>2</th>\n",
       "      <td>1/1/2015</td>\n",
       "      <td>AUD</td>\n",
       "      <td>1.2214</td>\n",
       "    </tr>\n",
       "    <tr>\n",
       "      <th>3</th>\n",
       "      <td>1/1/2015</td>\n",
       "      <td>EUR</td>\n",
       "      <td>0.8237</td>\n",
       "    </tr>\n",
       "    <tr>\n",
       "      <th>4</th>\n",
       "      <td>1/1/2015</td>\n",
       "      <td>GBP</td>\n",
       "      <td>0.6415</td>\n",
       "    </tr>\n",
       "  </tbody>\n",
       "</table>\n",
       "</div>"
      ],
      "text/plain": [
       "       Date Currency  Exchange\n",
       "0  1/1/2015      USD    1.0000\n",
       "1  1/1/2015      CAD    1.1583\n",
       "2  1/1/2015      AUD    1.2214\n",
       "3  1/1/2015      EUR    0.8237\n",
       "4  1/1/2015      GBP    0.6415"
      ]
     },
     "execution_count": 15,
     "metadata": {},
     "output_type": "execute_result"
    }
   ],
   "source": [
    "exr.head()"
   ]
  },
  {
   "cell_type": "code",
   "execution_count": 16,
   "id": "1cc8e3da-9509-4c9d-acd6-f8deed71d48e",
   "metadata": {},
   "outputs": [
    {
     "data": {
      "text/plain": [
       "Date         object\n",
       "Currency     object\n",
       "Exchange    float64\n",
       "dtype: object"
      ]
     },
     "execution_count": 16,
     "metadata": {},
     "output_type": "execute_result"
    }
   ],
   "source": [
    "exr.dtypes"
   ]
  },
  {
   "cell_type": "code",
   "execution_count": 17,
   "id": "18e59e47-7612-44a6-837c-6f6c72b3eb2c",
   "metadata": {},
   "outputs": [
    {
     "data": {
      "text/plain": [
       "(11215, 3)"
      ]
     },
     "execution_count": 17,
     "metadata": {},
     "output_type": "execute_result"
    }
   ],
   "source": [
    "exr.shape"
   ]
  },
  {
   "cell_type": "code",
   "execution_count": 18,
   "id": "35de1ce5-238c-4e1c-a070-7b207f77c63e",
   "metadata": {},
   "outputs": [
    {
     "data": {
      "text/html": [
       "<div>\n",
       "<style scoped>\n",
       "    .dataframe tbody tr th:only-of-type {\n",
       "        vertical-align: middle;\n",
       "    }\n",
       "\n",
       "    .dataframe tbody tr th {\n",
       "        vertical-align: top;\n",
       "    }\n",
       "\n",
       "    .dataframe thead th {\n",
       "        text-align: right;\n",
       "    }\n",
       "</style>\n",
       "<table border=\"1\" class=\"dataframe\">\n",
       "  <thead>\n",
       "    <tr style=\"text-align: right;\">\n",
       "      <th></th>\n",
       "      <th>Exchange</th>\n",
       "    </tr>\n",
       "  </thead>\n",
       "  <tbody>\n",
       "    <tr>\n",
       "      <th>count</th>\n",
       "      <td>11215.000000</td>\n",
       "    </tr>\n",
       "    <tr>\n",
       "      <th>mean</th>\n",
       "      <td>1.061682</td>\n",
       "    </tr>\n",
       "    <tr>\n",
       "      <th>std</th>\n",
       "      <td>0.245519</td>\n",
       "    </tr>\n",
       "    <tr>\n",
       "      <th>min</th>\n",
       "      <td>0.628500</td>\n",
       "    </tr>\n",
       "    <tr>\n",
       "      <th>25%</th>\n",
       "      <td>0.857800</td>\n",
       "    </tr>\n",
       "    <tr>\n",
       "      <th>50%</th>\n",
       "      <td>1.000000</td>\n",
       "    </tr>\n",
       "    <tr>\n",
       "      <th>75%</th>\n",
       "      <td>1.311900</td>\n",
       "    </tr>\n",
       "    <tr>\n",
       "      <th>max</th>\n",
       "      <td>1.725300</td>\n",
       "    </tr>\n",
       "  </tbody>\n",
       "</table>\n",
       "</div>"
      ],
      "text/plain": [
       "           Exchange\n",
       "count  11215.000000\n",
       "mean       1.061682\n",
       "std        0.245519\n",
       "min        0.628500\n",
       "25%        0.857800\n",
       "50%        1.000000\n",
       "75%        1.311900\n",
       "max        1.725300"
      ]
     },
     "execution_count": 18,
     "metadata": {},
     "output_type": "execute_result"
    }
   ],
   "source": [
    "exr.describe()"
   ]
  },
  {
   "cell_type": "code",
   "execution_count": 19,
   "id": "70f723f4-1a30-4f69-aba3-c35769aa3834",
   "metadata": {},
   "outputs": [
    {
     "data": {
      "text/html": [
       "<div>\n",
       "<style scoped>\n",
       "    .dataframe tbody tr th:only-of-type {\n",
       "        vertical-align: middle;\n",
       "    }\n",
       "\n",
       "    .dataframe tbody tr th {\n",
       "        vertical-align: top;\n",
       "    }\n",
       "\n",
       "    .dataframe thead th {\n",
       "        text-align: right;\n",
       "    }\n",
       "</style>\n",
       "<table border=\"1\" class=\"dataframe\">\n",
       "  <thead>\n",
       "    <tr style=\"text-align: right;\">\n",
       "      <th></th>\n",
       "      <th>Date</th>\n",
       "      <th>Currency</th>\n",
       "    </tr>\n",
       "  </thead>\n",
       "  <tbody>\n",
       "    <tr>\n",
       "      <th>count</th>\n",
       "      <td>11215</td>\n",
       "      <td>11215</td>\n",
       "    </tr>\n",
       "    <tr>\n",
       "      <th>unique</th>\n",
       "      <td>2243</td>\n",
       "      <td>5</td>\n",
       "    </tr>\n",
       "    <tr>\n",
       "      <th>top</th>\n",
       "      <td>2/20/2021</td>\n",
       "      <td>USD</td>\n",
       "    </tr>\n",
       "    <tr>\n",
       "      <th>freq</th>\n",
       "      <td>5</td>\n",
       "      <td>2243</td>\n",
       "    </tr>\n",
       "  </tbody>\n",
       "</table>\n",
       "</div>"
      ],
      "text/plain": [
       "             Date Currency\n",
       "count       11215    11215\n",
       "unique       2243        5\n",
       "top     2/20/2021      USD\n",
       "freq            5     2243"
      ]
     },
     "execution_count": 19,
     "metadata": {},
     "output_type": "execute_result"
    }
   ],
   "source": [
    "exr.describe(include ='object')"
   ]
  },
  {
   "cell_type": "code",
   "execution_count": 20,
   "id": "df832674-0ae8-4d16-ad19-bddc6e7b350d",
   "metadata": {},
   "outputs": [],
   "source": [
    "sales=pd.read_csv('Sales.csv',encoding='latin1')"
   ]
  },
  {
   "cell_type": "code",
   "execution_count": 21,
   "id": "a5912b18-b620-4341-a9c8-6d0aef488fba",
   "metadata": {},
   "outputs": [
    {
     "data": {
      "text/plain": [
       "Order Number      int64\n",
       "Line Item         int64\n",
       "Order Date       object\n",
       "Delivery Date    object\n",
       "CustomerKey       int64\n",
       "StoreKey          int64\n",
       "ProductKey        int64\n",
       "Quantity          int64\n",
       "Currency Code    object\n",
       "dtype: object"
      ]
     },
     "execution_count": 21,
     "metadata": {},
     "output_type": "execute_result"
    }
   ],
   "source": [
    "sales.dtypes"
   ]
  },
  {
   "cell_type": "code",
   "execution_count": 22,
   "id": "dc13a1a1-7baf-4736-a62b-9f6f2486e3d6",
   "metadata": {},
   "outputs": [
    {
     "data": {
      "text/plain": [
       "(62884, 9)"
      ]
     },
     "execution_count": 22,
     "metadata": {},
     "output_type": "execute_result"
    }
   ],
   "source": [
    "sales.shape"
   ]
  },
  {
   "cell_type": "code",
   "execution_count": 23,
   "id": "2c30271d-bef3-4fea-917f-2046a164bc94",
   "metadata": {},
   "outputs": [
    {
     "data": {
      "text/html": [
       "<div>\n",
       "<style scoped>\n",
       "    .dataframe tbody tr th:only-of-type {\n",
       "        vertical-align: middle;\n",
       "    }\n",
       "\n",
       "    .dataframe tbody tr th {\n",
       "        vertical-align: top;\n",
       "    }\n",
       "\n",
       "    .dataframe thead th {\n",
       "        text-align: right;\n",
       "    }\n",
       "</style>\n",
       "<table border=\"1\" class=\"dataframe\">\n",
       "  <thead>\n",
       "    <tr style=\"text-align: right;\">\n",
       "      <th></th>\n",
       "      <th>Order Number</th>\n",
       "      <th>Line Item</th>\n",
       "      <th>Order Date</th>\n",
       "      <th>Delivery Date</th>\n",
       "      <th>CustomerKey</th>\n",
       "      <th>StoreKey</th>\n",
       "      <th>ProductKey</th>\n",
       "      <th>Quantity</th>\n",
       "      <th>Currency Code</th>\n",
       "    </tr>\n",
       "  </thead>\n",
       "  <tbody>\n",
       "    <tr>\n",
       "      <th>0</th>\n",
       "      <td>366000</td>\n",
       "      <td>1</td>\n",
       "      <td>1/1/2016</td>\n",
       "      <td>NaN</td>\n",
       "      <td>265598</td>\n",
       "      <td>10</td>\n",
       "      <td>1304</td>\n",
       "      <td>1</td>\n",
       "      <td>CAD</td>\n",
       "    </tr>\n",
       "    <tr>\n",
       "      <th>1</th>\n",
       "      <td>366001</td>\n",
       "      <td>1</td>\n",
       "      <td>1/1/2016</td>\n",
       "      <td>1/13/2016</td>\n",
       "      <td>1269051</td>\n",
       "      <td>0</td>\n",
       "      <td>1048</td>\n",
       "      <td>2</td>\n",
       "      <td>USD</td>\n",
       "    </tr>\n",
       "    <tr>\n",
       "      <th>2</th>\n",
       "      <td>366001</td>\n",
       "      <td>2</td>\n",
       "      <td>1/1/2016</td>\n",
       "      <td>1/13/2016</td>\n",
       "      <td>1269051</td>\n",
       "      <td>0</td>\n",
       "      <td>2007</td>\n",
       "      <td>1</td>\n",
       "      <td>USD</td>\n",
       "    </tr>\n",
       "    <tr>\n",
       "      <th>3</th>\n",
       "      <td>366002</td>\n",
       "      <td>1</td>\n",
       "      <td>1/1/2016</td>\n",
       "      <td>1/12/2016</td>\n",
       "      <td>266019</td>\n",
       "      <td>0</td>\n",
       "      <td>1106</td>\n",
       "      <td>7</td>\n",
       "      <td>CAD</td>\n",
       "    </tr>\n",
       "    <tr>\n",
       "      <th>4</th>\n",
       "      <td>366002</td>\n",
       "      <td>2</td>\n",
       "      <td>1/1/2016</td>\n",
       "      <td>1/12/2016</td>\n",
       "      <td>266019</td>\n",
       "      <td>0</td>\n",
       "      <td>373</td>\n",
       "      <td>1</td>\n",
       "      <td>CAD</td>\n",
       "    </tr>\n",
       "  </tbody>\n",
       "</table>\n",
       "</div>"
      ],
      "text/plain": [
       "   Order Number  Line Item Order Date Delivery Date  CustomerKey  StoreKey  \\\n",
       "0        366000          1   1/1/2016           NaN       265598        10   \n",
       "1        366001          1   1/1/2016     1/13/2016      1269051         0   \n",
       "2        366001          2   1/1/2016     1/13/2016      1269051         0   \n",
       "3        366002          1   1/1/2016     1/12/2016       266019         0   \n",
       "4        366002          2   1/1/2016     1/12/2016       266019         0   \n",
       "\n",
       "   ProductKey  Quantity Currency Code  \n",
       "0        1304         1           CAD  \n",
       "1        1048         2           USD  \n",
       "2        2007         1           USD  \n",
       "3        1106         7           CAD  \n",
       "4         373         1           CAD  "
      ]
     },
     "execution_count": 23,
     "metadata": {},
     "output_type": "execute_result"
    }
   ],
   "source": [
    "sales.head()"
   ]
  },
  {
   "cell_type": "code",
   "execution_count": 24,
   "id": "334835de-7bac-44d2-a8e9-9bd62221838a",
   "metadata": {},
   "outputs": [
    {
     "data": {
      "text/html": [
       "<div>\n",
       "<style scoped>\n",
       "    .dataframe tbody tr th:only-of-type {\n",
       "        vertical-align: middle;\n",
       "    }\n",
       "\n",
       "    .dataframe tbody tr th {\n",
       "        vertical-align: top;\n",
       "    }\n",
       "\n",
       "    .dataframe thead th {\n",
       "        text-align: right;\n",
       "    }\n",
       "</style>\n",
       "<table border=\"1\" class=\"dataframe\">\n",
       "  <thead>\n",
       "    <tr style=\"text-align: right;\">\n",
       "      <th></th>\n",
       "      <th>Order Number</th>\n",
       "      <th>Line Item</th>\n",
       "      <th>CustomerKey</th>\n",
       "      <th>StoreKey</th>\n",
       "      <th>ProductKey</th>\n",
       "      <th>Quantity</th>\n",
       "    </tr>\n",
       "  </thead>\n",
       "  <tbody>\n",
       "    <tr>\n",
       "      <th>count</th>\n",
       "      <td>6.288400e+04</td>\n",
       "      <td>62884.000000</td>\n",
       "      <td>6.288400e+04</td>\n",
       "      <td>62884.000000</td>\n",
       "      <td>62884.000000</td>\n",
       "      <td>62884.000000</td>\n",
       "    </tr>\n",
       "    <tr>\n",
       "      <th>mean</th>\n",
       "      <td>1.430905e+06</td>\n",
       "      <td>2.164207</td>\n",
       "      <td>1.180797e+06</td>\n",
       "      <td>31.802144</td>\n",
       "      <td>1125.859344</td>\n",
       "      <td>3.144790</td>\n",
       "    </tr>\n",
       "    <tr>\n",
       "      <th>std</th>\n",
       "      <td>4.532963e+05</td>\n",
       "      <td>1.365170</td>\n",
       "      <td>5.859634e+05</td>\n",
       "      <td>22.978188</td>\n",
       "      <td>709.244010</td>\n",
       "      <td>2.256371</td>\n",
       "    </tr>\n",
       "    <tr>\n",
       "      <th>min</th>\n",
       "      <td>3.660000e+05</td>\n",
       "      <td>1.000000</td>\n",
       "      <td>3.010000e+02</td>\n",
       "      <td>0.000000</td>\n",
       "      <td>1.000000</td>\n",
       "      <td>1.000000</td>\n",
       "    </tr>\n",
       "    <tr>\n",
       "      <th>25%</th>\n",
       "      <td>1.121017e+06</td>\n",
       "      <td>1.000000</td>\n",
       "      <td>6.808580e+05</td>\n",
       "      <td>8.000000</td>\n",
       "      <td>437.000000</td>\n",
       "      <td>1.000000</td>\n",
       "    </tr>\n",
       "    <tr>\n",
       "      <th>50%</th>\n",
       "      <td>1.498016e+06</td>\n",
       "      <td>2.000000</td>\n",
       "      <td>1.261200e+06</td>\n",
       "      <td>37.000000</td>\n",
       "      <td>1358.000000</td>\n",
       "      <td>2.000000</td>\n",
       "    </tr>\n",
       "    <tr>\n",
       "      <th>75%</th>\n",
       "      <td>1.788010e+06</td>\n",
       "      <td>3.000000</td>\n",
       "      <td>1.686496e+06</td>\n",
       "      <td>53.000000</td>\n",
       "      <td>1650.000000</td>\n",
       "      <td>4.000000</td>\n",
       "    </tr>\n",
       "    <tr>\n",
       "      <th>max</th>\n",
       "      <td>2.243032e+06</td>\n",
       "      <td>7.000000</td>\n",
       "      <td>2.099937e+06</td>\n",
       "      <td>66.000000</td>\n",
       "      <td>2517.000000</td>\n",
       "      <td>10.000000</td>\n",
       "    </tr>\n",
       "  </tbody>\n",
       "</table>\n",
       "</div>"
      ],
      "text/plain": [
       "       Order Number     Line Item   CustomerKey      StoreKey    ProductKey  \\\n",
       "count  6.288400e+04  62884.000000  6.288400e+04  62884.000000  62884.000000   \n",
       "mean   1.430905e+06      2.164207  1.180797e+06     31.802144   1125.859344   \n",
       "std    4.532963e+05      1.365170  5.859634e+05     22.978188    709.244010   \n",
       "min    3.660000e+05      1.000000  3.010000e+02      0.000000      1.000000   \n",
       "25%    1.121017e+06      1.000000  6.808580e+05      8.000000    437.000000   \n",
       "50%    1.498016e+06      2.000000  1.261200e+06     37.000000   1358.000000   \n",
       "75%    1.788010e+06      3.000000  1.686496e+06     53.000000   1650.000000   \n",
       "max    2.243032e+06      7.000000  2.099937e+06     66.000000   2517.000000   \n",
       "\n",
       "           Quantity  \n",
       "count  62884.000000  \n",
       "mean       3.144790  \n",
       "std        2.256371  \n",
       "min        1.000000  \n",
       "25%        1.000000  \n",
       "50%        2.000000  \n",
       "75%        4.000000  \n",
       "max       10.000000  "
      ]
     },
     "execution_count": 24,
     "metadata": {},
     "output_type": "execute_result"
    }
   ],
   "source": [
    "sales.describe()"
   ]
  },
  {
   "cell_type": "code",
   "execution_count": 25,
   "id": "3ffe7855-88e6-4c11-9bbf-e81a765f88db",
   "metadata": {},
   "outputs": [
    {
     "data": {
      "text/html": [
       "<div>\n",
       "<style scoped>\n",
       "    .dataframe tbody tr th:only-of-type {\n",
       "        vertical-align: middle;\n",
       "    }\n",
       "\n",
       "    .dataframe tbody tr th {\n",
       "        vertical-align: top;\n",
       "    }\n",
       "\n",
       "    .dataframe thead th {\n",
       "        text-align: right;\n",
       "    }\n",
       "</style>\n",
       "<table border=\"1\" class=\"dataframe\">\n",
       "  <thead>\n",
       "    <tr style=\"text-align: right;\">\n",
       "      <th></th>\n",
       "      <th>Order Date</th>\n",
       "      <th>Delivery Date</th>\n",
       "      <th>Currency Code</th>\n",
       "    </tr>\n",
       "  </thead>\n",
       "  <tbody>\n",
       "    <tr>\n",
       "      <th>count</th>\n",
       "      <td>62884</td>\n",
       "      <td>13165</td>\n",
       "      <td>62884</td>\n",
       "    </tr>\n",
       "    <tr>\n",
       "      <th>unique</th>\n",
       "      <td>1641</td>\n",
       "      <td>1492</td>\n",
       "      <td>5</td>\n",
       "    </tr>\n",
       "    <tr>\n",
       "      <th>top</th>\n",
       "      <td>12/21/2019</td>\n",
       "      <td>1/6/2020</td>\n",
       "      <td>USD</td>\n",
       "    </tr>\n",
       "    <tr>\n",
       "      <th>freq</th>\n",
       "      <td>222</td>\n",
       "      <td>50</td>\n",
       "      <td>33767</td>\n",
       "    </tr>\n",
       "  </tbody>\n",
       "</table>\n",
       "</div>"
      ],
      "text/plain": [
       "        Order Date Delivery Date Currency Code\n",
       "count        62884         13165         62884\n",
       "unique        1641          1492             5\n",
       "top     12/21/2019      1/6/2020           USD\n",
       "freq           222            50         33767"
      ]
     },
     "execution_count": 25,
     "metadata": {},
     "output_type": "execute_result"
    }
   ],
   "source": [
    "sales.describe(include='object')"
   ]
  },
  {
   "cell_type": "code",
   "execution_count": 26,
   "id": "04ddac72-9dd0-4424-bf0b-8d48fb82b005",
   "metadata": {},
   "outputs": [],
   "source": [
    "pro = pd.read_csv('Products.csv')"
   ]
  },
  {
   "cell_type": "code",
   "execution_count": 27,
   "id": "00ae9cca-5654-4b00-817e-928fbb91bf68",
   "metadata": {},
   "outputs": [
    {
     "data": {
      "text/html": [
       "<div>\n",
       "<style scoped>\n",
       "    .dataframe tbody tr th:only-of-type {\n",
       "        vertical-align: middle;\n",
       "    }\n",
       "\n",
       "    .dataframe tbody tr th {\n",
       "        vertical-align: top;\n",
       "    }\n",
       "\n",
       "    .dataframe thead th {\n",
       "        text-align: right;\n",
       "    }\n",
       "</style>\n",
       "<table border=\"1\" class=\"dataframe\">\n",
       "  <thead>\n",
       "    <tr style=\"text-align: right;\">\n",
       "      <th></th>\n",
       "      <th>ProductKey</th>\n",
       "      <th>Product Name</th>\n",
       "      <th>Brand</th>\n",
       "      <th>Color</th>\n",
       "      <th>Unit Cost USD</th>\n",
       "      <th>Unit Price USD</th>\n",
       "      <th>SubcategoryKey</th>\n",
       "      <th>Subcategory</th>\n",
       "      <th>CategoryKey</th>\n",
       "      <th>Category</th>\n",
       "    </tr>\n",
       "  </thead>\n",
       "  <tbody>\n",
       "    <tr>\n",
       "      <th>0</th>\n",
       "      <td>1</td>\n",
       "      <td>Contoso 512MB MP3 Player E51 Silver</td>\n",
       "      <td>Contoso</td>\n",
       "      <td>Silver</td>\n",
       "      <td>$6.62</td>\n",
       "      <td>$12.99</td>\n",
       "      <td>101</td>\n",
       "      <td>MP4&amp;MP3</td>\n",
       "      <td>1</td>\n",
       "      <td>Audio</td>\n",
       "    </tr>\n",
       "    <tr>\n",
       "      <th>1</th>\n",
       "      <td>2</td>\n",
       "      <td>Contoso 512MB MP3 Player E51 Blue</td>\n",
       "      <td>Contoso</td>\n",
       "      <td>Blue</td>\n",
       "      <td>$6.62</td>\n",
       "      <td>$12.99</td>\n",
       "      <td>101</td>\n",
       "      <td>MP4&amp;MP3</td>\n",
       "      <td>1</td>\n",
       "      <td>Audio</td>\n",
       "    </tr>\n",
       "    <tr>\n",
       "      <th>2</th>\n",
       "      <td>3</td>\n",
       "      <td>Contoso 1G MP3 Player E100 White</td>\n",
       "      <td>Contoso</td>\n",
       "      <td>White</td>\n",
       "      <td>$7.40</td>\n",
       "      <td>$14.52</td>\n",
       "      <td>101</td>\n",
       "      <td>MP4&amp;MP3</td>\n",
       "      <td>1</td>\n",
       "      <td>Audio</td>\n",
       "    </tr>\n",
       "    <tr>\n",
       "      <th>3</th>\n",
       "      <td>4</td>\n",
       "      <td>Contoso 2G MP3 Player E200 Silver</td>\n",
       "      <td>Contoso</td>\n",
       "      <td>Silver</td>\n",
       "      <td>$11.00</td>\n",
       "      <td>$21.57</td>\n",
       "      <td>101</td>\n",
       "      <td>MP4&amp;MP3</td>\n",
       "      <td>1</td>\n",
       "      <td>Audio</td>\n",
       "    </tr>\n",
       "    <tr>\n",
       "      <th>4</th>\n",
       "      <td>5</td>\n",
       "      <td>Contoso 2G MP3 Player E200 Red</td>\n",
       "      <td>Contoso</td>\n",
       "      <td>Red</td>\n",
       "      <td>$11.00</td>\n",
       "      <td>$21.57</td>\n",
       "      <td>101</td>\n",
       "      <td>MP4&amp;MP3</td>\n",
       "      <td>1</td>\n",
       "      <td>Audio</td>\n",
       "    </tr>\n",
       "  </tbody>\n",
       "</table>\n",
       "</div>"
      ],
      "text/plain": [
       "   ProductKey                         Product Name    Brand   Color  \\\n",
       "0           1  Contoso 512MB MP3 Player E51 Silver  Contoso  Silver   \n",
       "1           2    Contoso 512MB MP3 Player E51 Blue  Contoso    Blue   \n",
       "2           3     Contoso 1G MP3 Player E100 White  Contoso   White   \n",
       "3           4    Contoso 2G MP3 Player E200 Silver  Contoso  Silver   \n",
       "4           5       Contoso 2G MP3 Player E200 Red  Contoso     Red   \n",
       "\n",
       "  Unit Cost USD Unit Price USD  SubcategoryKey Subcategory  CategoryKey  \\\n",
       "0        $6.62         $12.99              101     MP4&MP3            1   \n",
       "1        $6.62         $12.99              101     MP4&MP3            1   \n",
       "2        $7.40         $14.52              101     MP4&MP3            1   \n",
       "3       $11.00         $21.57              101     MP4&MP3            1   \n",
       "4       $11.00         $21.57              101     MP4&MP3            1   \n",
       "\n",
       "  Category  \n",
       "0    Audio  \n",
       "1    Audio  \n",
       "2    Audio  \n",
       "3    Audio  \n",
       "4    Audio  "
      ]
     },
     "execution_count": 27,
     "metadata": {},
     "output_type": "execute_result"
    }
   ],
   "source": [
    "pro.head()"
   ]
  },
  {
   "cell_type": "code",
   "execution_count": 28,
   "id": "f3c3d666-8a7a-4f95-b470-feb4ade74dfc",
   "metadata": {},
   "outputs": [
    {
     "data": {
      "text/plain": [
       "(2517, 10)"
      ]
     },
     "execution_count": 28,
     "metadata": {},
     "output_type": "execute_result"
    }
   ],
   "source": [
    "pro.shape"
   ]
  },
  {
   "cell_type": "code",
   "execution_count": 29,
   "id": "5e220f3a-8e0a-46e1-acea-70a56aff8ad6",
   "metadata": {},
   "outputs": [
    {
     "data": {
      "text/html": [
       "<div>\n",
       "<style scoped>\n",
       "    .dataframe tbody tr th:only-of-type {\n",
       "        vertical-align: middle;\n",
       "    }\n",
       "\n",
       "    .dataframe tbody tr th {\n",
       "        vertical-align: top;\n",
       "    }\n",
       "\n",
       "    .dataframe thead th {\n",
       "        text-align: right;\n",
       "    }\n",
       "</style>\n",
       "<table border=\"1\" class=\"dataframe\">\n",
       "  <thead>\n",
       "    <tr style=\"text-align: right;\">\n",
       "      <th></th>\n",
       "      <th>ProductKey</th>\n",
       "      <th>SubcategoryKey</th>\n",
       "      <th>CategoryKey</th>\n",
       "    </tr>\n",
       "  </thead>\n",
       "  <tbody>\n",
       "    <tr>\n",
       "      <th>count</th>\n",
       "      <td>2517.000000</td>\n",
       "      <td>2517.000000</td>\n",
       "      <td>2517.000000</td>\n",
       "    </tr>\n",
       "    <tr>\n",
       "      <th>mean</th>\n",
       "      <td>1259.000000</td>\n",
       "      <td>491.810091</td>\n",
       "      <td>4.878824</td>\n",
       "    </tr>\n",
       "    <tr>\n",
       "      <th>std</th>\n",
       "      <td>726.739637</td>\n",
       "      <td>229.887134</td>\n",
       "      <td>2.299170</td>\n",
       "    </tr>\n",
       "    <tr>\n",
       "      <th>min</th>\n",
       "      <td>1.000000</td>\n",
       "      <td>101.000000</td>\n",
       "      <td>1.000000</td>\n",
       "    </tr>\n",
       "    <tr>\n",
       "      <th>25%</th>\n",
       "      <td>630.000000</td>\n",
       "      <td>305.000000</td>\n",
       "      <td>3.000000</td>\n",
       "    </tr>\n",
       "    <tr>\n",
       "      <th>50%</th>\n",
       "      <td>1259.000000</td>\n",
       "      <td>406.000000</td>\n",
       "      <td>4.000000</td>\n",
       "    </tr>\n",
       "    <tr>\n",
       "      <th>75%</th>\n",
       "      <td>1888.000000</td>\n",
       "      <td>801.000000</td>\n",
       "      <td>8.000000</td>\n",
       "    </tr>\n",
       "    <tr>\n",
       "      <th>max</th>\n",
       "      <td>2517.000000</td>\n",
       "      <td>808.000000</td>\n",
       "      <td>8.000000</td>\n",
       "    </tr>\n",
       "  </tbody>\n",
       "</table>\n",
       "</div>"
      ],
      "text/plain": [
       "        ProductKey  SubcategoryKey  CategoryKey\n",
       "count  2517.000000     2517.000000  2517.000000\n",
       "mean   1259.000000      491.810091     4.878824\n",
       "std     726.739637      229.887134     2.299170\n",
       "min       1.000000      101.000000     1.000000\n",
       "25%     630.000000      305.000000     3.000000\n",
       "50%    1259.000000      406.000000     4.000000\n",
       "75%    1888.000000      801.000000     8.000000\n",
       "max    2517.000000      808.000000     8.000000"
      ]
     },
     "execution_count": 29,
     "metadata": {},
     "output_type": "execute_result"
    }
   ],
   "source": [
    "pro.describe()"
   ]
  },
  {
   "cell_type": "code",
   "execution_count": 30,
   "id": "1c15403d-f31f-4edc-91f8-1a2670ac7960",
   "metadata": {},
   "outputs": [
    {
     "data": {
      "text/html": [
       "<div>\n",
       "<style scoped>\n",
       "    .dataframe tbody tr th:only-of-type {\n",
       "        vertical-align: middle;\n",
       "    }\n",
       "\n",
       "    .dataframe tbody tr th {\n",
       "        vertical-align: top;\n",
       "    }\n",
       "\n",
       "    .dataframe thead th {\n",
       "        text-align: right;\n",
       "    }\n",
       "</style>\n",
       "<table border=\"1\" class=\"dataframe\">\n",
       "  <thead>\n",
       "    <tr style=\"text-align: right;\">\n",
       "      <th></th>\n",
       "      <th>Product Name</th>\n",
       "      <th>Brand</th>\n",
       "      <th>Color</th>\n",
       "      <th>Unit Cost USD</th>\n",
       "      <th>Unit Price USD</th>\n",
       "      <th>Subcategory</th>\n",
       "      <th>Category</th>\n",
       "    </tr>\n",
       "  </thead>\n",
       "  <tbody>\n",
       "    <tr>\n",
       "      <th>count</th>\n",
       "      <td>2517</td>\n",
       "      <td>2517</td>\n",
       "      <td>2517</td>\n",
       "      <td>2517</td>\n",
       "      <td>2517</td>\n",
       "      <td>2517</td>\n",
       "      <td>2517</td>\n",
       "    </tr>\n",
       "    <tr>\n",
       "      <th>unique</th>\n",
       "      <td>2517</td>\n",
       "      <td>11</td>\n",
       "      <td>16</td>\n",
       "      <td>480</td>\n",
       "      <td>426</td>\n",
       "      <td>32</td>\n",
       "      <td>8</td>\n",
       "    </tr>\n",
       "    <tr>\n",
       "      <th>top</th>\n",
       "      <td>Contoso In-Line Coupler E180 Silver</td>\n",
       "      <td>Contoso</td>\n",
       "      <td>Black</td>\n",
       "      <td>$15.29</td>\n",
       "      <td>$29.99</td>\n",
       "      <td>Computers Accessories</td>\n",
       "      <td>Home Appliances</td>\n",
       "    </tr>\n",
       "    <tr>\n",
       "      <th>freq</th>\n",
       "      <td>1</td>\n",
       "      <td>710</td>\n",
       "      <td>602</td>\n",
       "      <td>34</td>\n",
       "      <td>30</td>\n",
       "      <td>201</td>\n",
       "      <td>661</td>\n",
       "    </tr>\n",
       "  </tbody>\n",
       "</table>\n",
       "</div>"
      ],
      "text/plain": [
       "                               Product Name    Brand  Color Unit Cost USD  \\\n",
       "count                                  2517     2517   2517          2517   \n",
       "unique                                 2517       11     16           480   \n",
       "top     Contoso In-Line Coupler E180 Silver  Contoso  Black       $15.29    \n",
       "freq                                      1      710    602            34   \n",
       "\n",
       "       Unit Price USD            Subcategory         Category  \n",
       "count            2517                   2517             2517  \n",
       "unique            426                     32                8  \n",
       "top           $29.99   Computers Accessories  Home Appliances  \n",
       "freq               30                    201              661  "
      ]
     },
     "execution_count": 30,
     "metadata": {},
     "output_type": "execute_result"
    }
   ],
   "source": [
    "pro.describe(include='object')"
   ]
  },
  {
   "cell_type": "code",
   "execution_count": 31,
   "id": "31388367-e663-4309-993a-b2cd0f12a08f",
   "metadata": {},
   "outputs": [],
   "source": [
    "store = pd.read_csv('Stores.csv')"
   ]
  },
  {
   "cell_type": "code",
   "execution_count": 32,
   "id": "7c4e30b4-0c6b-47c3-bcd0-a58cc774e825",
   "metadata": {},
   "outputs": [
    {
     "data": {
      "text/plain": [
       "StoreKey           int64\n",
       "Country           object\n",
       "State             object\n",
       "Square Meters    float64\n",
       "Open Date         object\n",
       "dtype: object"
      ]
     },
     "execution_count": 32,
     "metadata": {},
     "output_type": "execute_result"
    }
   ],
   "source": [
    "store.dtypes"
   ]
  },
  {
   "cell_type": "code",
   "execution_count": 33,
   "id": "fbf05b9f-11a7-4963-b610-7343904cd7ae",
   "metadata": {},
   "outputs": [
    {
     "data": {
      "text/plain": [
       "(67, 5)"
      ]
     },
     "execution_count": 33,
     "metadata": {},
     "output_type": "execute_result"
    }
   ],
   "source": [
    "store.shape"
   ]
  },
  {
   "cell_type": "code",
   "execution_count": 34,
   "id": "58755fe2-9eaf-42b2-a013-1c14705cc585",
   "metadata": {},
   "outputs": [
    {
     "data": {
      "text/html": [
       "<div>\n",
       "<style scoped>\n",
       "    .dataframe tbody tr th:only-of-type {\n",
       "        vertical-align: middle;\n",
       "    }\n",
       "\n",
       "    .dataframe tbody tr th {\n",
       "        vertical-align: top;\n",
       "    }\n",
       "\n",
       "    .dataframe thead th {\n",
       "        text-align: right;\n",
       "    }\n",
       "</style>\n",
       "<table border=\"1\" class=\"dataframe\">\n",
       "  <thead>\n",
       "    <tr style=\"text-align: right;\">\n",
       "      <th></th>\n",
       "      <th>StoreKey</th>\n",
       "      <th>Country</th>\n",
       "      <th>State</th>\n",
       "      <th>Square Meters</th>\n",
       "      <th>Open Date</th>\n",
       "    </tr>\n",
       "  </thead>\n",
       "  <tbody>\n",
       "    <tr>\n",
       "      <th>0</th>\n",
       "      <td>1</td>\n",
       "      <td>Australia</td>\n",
       "      <td>Australian Capital Territory</td>\n",
       "      <td>595.0</td>\n",
       "      <td>1/1/2008</td>\n",
       "    </tr>\n",
       "    <tr>\n",
       "      <th>1</th>\n",
       "      <td>2</td>\n",
       "      <td>Australia</td>\n",
       "      <td>Northern Territory</td>\n",
       "      <td>665.0</td>\n",
       "      <td>1/12/2008</td>\n",
       "    </tr>\n",
       "    <tr>\n",
       "      <th>2</th>\n",
       "      <td>3</td>\n",
       "      <td>Australia</td>\n",
       "      <td>South Australia</td>\n",
       "      <td>2000.0</td>\n",
       "      <td>1/7/2012</td>\n",
       "    </tr>\n",
       "    <tr>\n",
       "      <th>3</th>\n",
       "      <td>4</td>\n",
       "      <td>Australia</td>\n",
       "      <td>Tasmania</td>\n",
       "      <td>2000.0</td>\n",
       "      <td>1/1/2010</td>\n",
       "    </tr>\n",
       "    <tr>\n",
       "      <th>4</th>\n",
       "      <td>5</td>\n",
       "      <td>Australia</td>\n",
       "      <td>Victoria</td>\n",
       "      <td>2000.0</td>\n",
       "      <td>12/9/2015</td>\n",
       "    </tr>\n",
       "  </tbody>\n",
       "</table>\n",
       "</div>"
      ],
      "text/plain": [
       "   StoreKey    Country                         State  Square Meters  Open Date\n",
       "0         1  Australia  Australian Capital Territory          595.0   1/1/2008\n",
       "1         2  Australia            Northern Territory          665.0  1/12/2008\n",
       "2         3  Australia               South Australia         2000.0   1/7/2012\n",
       "3         4  Australia                      Tasmania         2000.0   1/1/2010\n",
       "4         5  Australia                      Victoria         2000.0  12/9/2015"
      ]
     },
     "execution_count": 34,
     "metadata": {},
     "output_type": "execute_result"
    }
   ],
   "source": [
    "store.head()"
   ]
  },
  {
   "cell_type": "code",
   "execution_count": 35,
   "id": "5b8b9d0f-d5bf-4ace-859c-703c9eccb149",
   "metadata": {},
   "outputs": [
    {
     "data": {
      "text/html": [
       "<div>\n",
       "<style scoped>\n",
       "    .dataframe tbody tr th:only-of-type {\n",
       "        vertical-align: middle;\n",
       "    }\n",
       "\n",
       "    .dataframe tbody tr th {\n",
       "        vertical-align: top;\n",
       "    }\n",
       "\n",
       "    .dataframe thead th {\n",
       "        text-align: right;\n",
       "    }\n",
       "</style>\n",
       "<table border=\"1\" class=\"dataframe\">\n",
       "  <thead>\n",
       "    <tr style=\"text-align: right;\">\n",
       "      <th></th>\n",
       "      <th>StoreKey</th>\n",
       "      <th>Square Meters</th>\n",
       "    </tr>\n",
       "  </thead>\n",
       "  <tbody>\n",
       "    <tr>\n",
       "      <th>count</th>\n",
       "      <td>67.000000</td>\n",
       "      <td>66.000000</td>\n",
       "    </tr>\n",
       "    <tr>\n",
       "      <th>mean</th>\n",
       "      <td>33.000000</td>\n",
       "      <td>1402.196970</td>\n",
       "    </tr>\n",
       "    <tr>\n",
       "      <th>std</th>\n",
       "      <td>19.485037</td>\n",
       "      <td>576.404058</td>\n",
       "    </tr>\n",
       "    <tr>\n",
       "      <th>min</th>\n",
       "      <td>0.000000</td>\n",
       "      <td>245.000000</td>\n",
       "    </tr>\n",
       "    <tr>\n",
       "      <th>25%</th>\n",
       "      <td>16.500000</td>\n",
       "      <td>1108.750000</td>\n",
       "    </tr>\n",
       "    <tr>\n",
       "      <th>50%</th>\n",
       "      <td>33.000000</td>\n",
       "      <td>1347.500000</td>\n",
       "    </tr>\n",
       "    <tr>\n",
       "      <th>75%</th>\n",
       "      <td>49.500000</td>\n",
       "      <td>2000.000000</td>\n",
       "    </tr>\n",
       "    <tr>\n",
       "      <th>max</th>\n",
       "      <td>66.000000</td>\n",
       "      <td>2105.000000</td>\n",
       "    </tr>\n",
       "  </tbody>\n",
       "</table>\n",
       "</div>"
      ],
      "text/plain": [
       "        StoreKey  Square Meters\n",
       "count  67.000000      66.000000\n",
       "mean   33.000000    1402.196970\n",
       "std    19.485037     576.404058\n",
       "min     0.000000     245.000000\n",
       "25%    16.500000    1108.750000\n",
       "50%    33.000000    1347.500000\n",
       "75%    49.500000    2000.000000\n",
       "max    66.000000    2105.000000"
      ]
     },
     "execution_count": 35,
     "metadata": {},
     "output_type": "execute_result"
    }
   ],
   "source": [
    "store.describe()"
   ]
  },
  {
   "cell_type": "code",
   "execution_count": 36,
   "id": "339eb862-6363-4f72-b885-1a5dfe950acc",
   "metadata": {},
   "outputs": [
    {
     "data": {
      "text/html": [
       "<div>\n",
       "<style scoped>\n",
       "    .dataframe tbody tr th:only-of-type {\n",
       "        vertical-align: middle;\n",
       "    }\n",
       "\n",
       "    .dataframe tbody tr th {\n",
       "        vertical-align: top;\n",
       "    }\n",
       "\n",
       "    .dataframe thead th {\n",
       "        text-align: right;\n",
       "    }\n",
       "</style>\n",
       "<table border=\"1\" class=\"dataframe\">\n",
       "  <thead>\n",
       "    <tr style=\"text-align: right;\">\n",
       "      <th></th>\n",
       "      <th>Country</th>\n",
       "      <th>State</th>\n",
       "      <th>Open Date</th>\n",
       "    </tr>\n",
       "  </thead>\n",
       "  <tbody>\n",
       "    <tr>\n",
       "      <th>count</th>\n",
       "      <td>67</td>\n",
       "      <td>67</td>\n",
       "      <td>67</td>\n",
       "    </tr>\n",
       "    <tr>\n",
       "      <th>unique</th>\n",
       "      <td>9</td>\n",
       "      <td>67</td>\n",
       "      <td>25</td>\n",
       "    </tr>\n",
       "    <tr>\n",
       "      <th>top</th>\n",
       "      <td>United States</td>\n",
       "      <td>Australian Capital Territory</td>\n",
       "      <td>1/1/2010</td>\n",
       "    </tr>\n",
       "    <tr>\n",
       "      <th>freq</th>\n",
       "      <td>24</td>\n",
       "      <td>1</td>\n",
       "      <td>9</td>\n",
       "    </tr>\n",
       "  </tbody>\n",
       "</table>\n",
       "</div>"
      ],
      "text/plain": [
       "              Country                         State Open Date\n",
       "count              67                            67        67\n",
       "unique              9                            67        25\n",
       "top     United States  Australian Capital Territory  1/1/2010\n",
       "freq               24                             1         9"
      ]
     },
     "execution_count": 36,
     "metadata": {},
     "output_type": "execute_result"
    }
   ],
   "source": [
    "store.describe(include='object')"
   ]
  },
  {
   "cell_type": "markdown",
   "id": "f2980e8b-099c-4c79-bf23-a99cfe38b887",
   "metadata": {},
   "source": [
    "### 2. Variable Type and their distribution for customer table"
   ]
  },
  {
   "cell_type": "code",
   "execution_count": 37,
   "id": "85d67938-6c36-47be-8f5f-ccfec26957fc",
   "metadata": {},
   "outputs": [],
   "source": [
    "customer_categorical = customer.select_dtypes(include=['object', 'category']).columns\n",
    "customer_continuous = customer.select_dtypes(include=['int64', 'float64']).columns"
   ]
  },
  {
   "cell_type": "code",
   "execution_count": 38,
   "id": "d063e1a5-9d5e-4cda-bc29-c3f2780b0eee",
   "metadata": {},
   "outputs": [
    {
     "data": {
      "text/plain": [
       "Index(['Gender', 'Name', 'City', 'State Code', 'State', 'Zip Code', 'Country',\n",
       "       'Continent', 'Birthday'],\n",
       "      dtype='object')"
      ]
     },
     "execution_count": 38,
     "metadata": {},
     "output_type": "execute_result"
    }
   ],
   "source": [
    "customer_categorical"
   ]
  },
  {
   "cell_type": "code",
   "execution_count": 39,
   "id": "dd0f4909-6355-4151-a201-bc211a83d6c6",
   "metadata": {},
   "outputs": [
    {
     "data": {
      "text/plain": [
       "Index(['CustomerKey'], dtype='object')"
      ]
     },
     "execution_count": 39,
     "metadata": {},
     "output_type": "execute_result"
    }
   ],
   "source": [
    "customer_continuous"
   ]
  },
  {
   "cell_type": "code",
   "execution_count": 47,
   "id": "31841624-5c83-4294-8617-ec352cf6359c",
   "metadata": {},
   "outputs": [
    {
     "name": "stdout",
     "output_type": "stream",
     "text": [
      "<class 'pandas.core.frame.DataFrame'>\n",
      "RangeIndex: 15266 entries, 0 to 15265\n",
      "Data columns (total 10 columns):\n",
      " #   Column       Non-Null Count  Dtype \n",
      "---  ------       --------------  ----- \n",
      " 0   CustomerKey  15266 non-null  int64 \n",
      " 1   Gender       15266 non-null  object\n",
      " 2   Name         15266 non-null  object\n",
      " 3   City         15266 non-null  object\n",
      " 4   State Code   15256 non-null  object\n",
      " 5   State        15266 non-null  object\n",
      " 6   Zip Code     15266 non-null  object\n",
      " 7   Country      15266 non-null  object\n",
      " 8   Continent    15266 non-null  object\n",
      " 9   Birthday     15266 non-null  object\n",
      "dtypes: int64(1), object(9)\n",
      "memory usage: 1.2+ MB\n"
     ]
    }
   ],
   "source": [
    "customer.info()"
   ]
  },
  {
   "cell_type": "code",
   "execution_count": 45,
   "id": "84a70b56-c307-4fba-be6a-406aa7cdc6eb",
   "metadata": {},
   "outputs": [
    {
     "data": {
      "text/plain": [
       "Zip Code\n",
       "90017      70\n",
       "S4P 3Y2    50\n",
       "H3C 5K4    37\n",
       "48075      28\n",
       "V6B 3K9    27\n",
       "           ..\n",
       "5676        1\n",
       "28716       1\n",
       "59035       1\n",
       "28262       1\n",
       "44460       1\n",
       "Name: count, Length: 9505, dtype: int64"
      ]
     },
     "execution_count": 45,
     "metadata": {},
     "output_type": "execute_result"
    }
   ],
   "source": [
    "customer['Zip Code'].value_counts() "
   ]
  },
  {
   "cell_type": "code",
   "execution_count": 44,
   "id": "b06d8d52-65b3-4761-a98a-8f5f459d000f",
   "metadata": {},
   "outputs": [
    {
     "data": {
      "text/plain": [
       "Country\n",
       "United States     6828\n",
       "United Kingdom    1944\n",
       "Canada            1553\n",
       "Germany           1473\n",
       "Australia         1420\n",
       "Netherlands        733\n",
       "France             670\n",
       "Italy              645\n",
       "Name: count, dtype: int64"
      ]
     },
     "execution_count": 44,
     "metadata": {},
     "output_type": "execute_result"
    }
   ],
   "source": [
    "customer['Country'].value_counts()"
   ]
  },
  {
   "cell_type": "raw",
   "id": "c1b42859-72fd-4300-9e66-da1cc0408b21",
   "metadata": {},
   "source": [
    "Since zip code gives us a more precise location than city , state, state code thus we can remove the state, state code and city, Continent and keep two columns regarding the locations that is zip code and country. Therefore we are keeping columns CustomerKey, Gender, Zip Code, Country, Birthday, Name\n",
    "and removing other unnecessary"
   ]
  },
  {
   "cell_type": "code",
   "execution_count": null,
   "id": "4f568875-bba8-41ba-a1ee-d3b93c6cf410",
   "metadata": {},
   "outputs": [],
   "source": []
  }
 ],
 "metadata": {
  "kernelspec": {
   "display_name": "Python 3.12",
   "language": "python",
   "name": "python312"
  },
  "language_info": {
   "codemirror_mode": {
    "name": "ipython",
    "version": 3
   },
   "file_extension": ".py",
   "mimetype": "text/x-python",
   "name": "python",
   "nbconvert_exporter": "python",
   "pygments_lexer": "ipython3",
   "version": "3.12.5"
  }
 },
 "nbformat": 4,
 "nbformat_minor": 5
}
